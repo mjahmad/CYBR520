{
 "cells": [
  {
   "cell_type": "code",
   "execution_count": null,
   "id": "ab90f151",
   "metadata": {},
   "outputs": [],
   "source": [
    "# source: https://machinelearningmastery.com/one-class-classification-algorithms/"
   ]
  },
  {
   "cell_type": "code",
   "execution_count": null,
   "id": "766d67b4",
   "metadata": {},
   "outputs": [],
   "source": [
    "# One-Class Classification Algorithms for Imbalanced Datasets"
   ]
  },
  {
   "cell_type": "code",
   "execution_count": 13,
   "id": "71cf1607",
   "metadata": {},
   "outputs": [],
   "source": [
    "from sklearn.datasets import make_classification\n",
    "from sklearn.model_selection import train_test_split\n",
    "from sklearn.metrics import f1_score\n",
    "from sklearn.svm import OneClassSVM\n",
    "# elliptic envelope for imbalanced classification\n",
    "from sklearn.datasets import make_classification\n",
    "from sklearn.model_selection import train_test_split\n",
    "from sklearn.metrics import f1_score\n",
    "from sklearn.covariance import EllipticEnvelope\n",
    "\n"
   ]
  },
  {
   "cell_type": "code",
   "execution_count": 14,
   "id": "64055771",
   "metadata": {},
   "outputs": [],
   "source": [
    "# generate dataset\n",
    "X, y = make_classification(n_samples=10000, n_features=2, n_redundant=0,\n",
    " n_clusters_per_class=1, weights=[0.999], flip_y=0, random_state=4)"
   ]
  },
  {
   "cell_type": "code",
   "execution_count": 15,
   "id": "551468e5",
   "metadata": {},
   "outputs": [],
   "source": [
    "# split into train/test sets\n",
    "trainX, testX, trainy, testy = train_test_split(X, y, test_size=0.5, random_state=2, stratify=y)"
   ]
  },
  {
   "cell_type": "code",
   "execution_count": 16,
   "id": "20197489",
   "metadata": {},
   "outputs": [
    {
     "name": "stdout",
     "output_type": "stream",
     "text": [
      "F1 Score: 0.123\n"
     ]
    }
   ],
   "source": [
    "# one-class svm for imbalanced binary classification\n",
    "# define outlier detection model\n",
    "model = OneClassSVM(gamma='scale', nu=0.01)\n",
    "# fit on majority class\n",
    "trainX = trainX[trainy==0]\n",
    "model.fit(trainX)\n",
    "# detect outliers in the test set\n",
    "yhat = model.predict(testX)\n",
    "# mark inliers 1, outliers -1\n",
    "testy[testy == 1] = -1\n",
    "testy[testy == 0] = 1\n",
    "# calculate score\n",
    "score = f1_score(testy, yhat, pos_label=-1)\n",
    "print('F1 Score: %.3f' % score)"
   ]
  },
  {
   "cell_type": "code",
   "execution_count": 17,
   "id": "cd638c5e",
   "metadata": {},
   "outputs": [
    {
     "name": "stdout",
     "output_type": "stream",
     "text": [
      "F1 Score: 0.014\n"
     ]
    }
   ],
   "source": [
    "# FLO\n",
    "# Isolation Forest for imbalanced classification\n",
    "from sklearn.datasets import make_classification\n",
    "from sklearn.model_selection import train_test_split\n",
    "from sklearn.metrics import f1_score\n",
    "from sklearn.ensemble import IsolationForest\n",
    "\n",
    "\n",
    "# Split into train/test sets\n",
    "trainX, testX, trainy, testy = train_test_split(X, y, test_size=0.5, random_state=2, stratify=y)\n",
    "\n",
    "# Define outlier detection model\n",
    "model = IsolationForest(contamination=0.01)\n",
    "\n",
    "# Fit on majority class (inliers)\n",
    "trainX = trainX[trainy == 0]\n",
    "model.fit(trainX)\n",
    "\n",
    "# Detect outliers in the test set\n",
    "yhat = model.predict(testX)\n",
    "\n",
    "# Mark inliers as 1 and outliers as -1\n",
    "testy[testy == 0] = -1  # Mark outliers as -1\n",
    "testy[testy == 1] = 1   # Mark inliers as 1\n",
    "\n",
    "# Calculate the F1 score\n",
    "score = f1_score(testy, yhat, pos_label=-1)\n",
    "print('F1 Score: %.3f' % score)\n"
   ]
  },
  {
   "cell_type": "code",
   "execution_count": 18,
   "id": "dd2a7b14",
   "metadata": {},
   "outputs": [],
   "source": [
    "# Minimum Covariance Determinant (MCD)"
   ]
  },
  {
   "cell_type": "code",
   "execution_count": 20,
   "id": "dd5d5bca",
   "metadata": {},
   "outputs": [
    {
     "name": "stdout",
     "output_type": "stream",
     "text": [
      "F1 Score: 0.157\n"
     ]
    }
   ],
   "source": [
    "# define outlier detection model\n",
    "model = EllipticEnvelope(contamination=0.01)\n",
    "# needed for MCD \n",
    "trainX, testX, trainy, testy = train_test_split(X, y, test_size=0.5, random_state=2, stratify=y)\n",
    "\n",
    "# fit on majority class\n",
    "trainX = trainX[trainy==0]\n",
    "model.fit(trainX)\n",
    "# detect outliers in the test set\n",
    "yhat = model.predict(testX)\n",
    "# mark inliers 1, outliers -1\n",
    "testy[testy == 1] = -1\n",
    "testy[testy == 0] = 1\n",
    "# calculate score\n",
    "score = f1_score(testy, yhat, pos_label=-1)\n",
    "print('F1 Score: %.3f' % score)"
   ]
  },
  {
   "cell_type": "code",
   "execution_count": null,
   "id": "c2dae714",
   "metadata": {},
   "outputs": [],
   "source": []
  },
  {
   "cell_type": "code",
   "execution_count": 21,
   "id": "1c24ae59",
   "metadata": {},
   "outputs": [
    {
     "name": "stdout",
     "output_type": "stream",
     "text": [
      "F1 Score: 0.138\n"
     ]
    }
   ],
   "source": [
    "# local outlier factor for imbalanced classification\n",
    "from numpy import vstack\n",
    "from sklearn.datasets import make_classification\n",
    "from sklearn.model_selection import train_test_split\n",
    "from sklearn.metrics import f1_score\n",
    "from sklearn.neighbors import LocalOutlierFactor\n",
    "\n",
    "# make a prediction with a lof model\n",
    "def lof_predict(model, trainX, testX):\n",
    "\t# create one large dataset\n",
    "\tcomposite = vstack((trainX, testX))\n",
    "\t# make prediction on composite dataset\n",
    "\tyhat = model.fit_predict(composite)\n",
    "\t# return just the predictions on the test set\n",
    "\treturn yhat[len(trainX):]\n",
    "\n",
    "# generate dataset\n",
    "X, y = make_classification(n_samples=10000, n_features=2, n_redundant=0,\n",
    "\tn_clusters_per_class=1, weights=[0.999], flip_y=0, random_state=4)\n",
    "# split into train/test sets\n",
    "trainX, testX, trainy, testy = train_test_split(X, y, test_size=0.5, random_state=2, stratify=y)\n",
    "# define outlier detection model\n",
    "model = LocalOutlierFactor(contamination=0.01)\n",
    "# get examples for just the majority class\n",
    "trainX = trainX[trainy==0]\n",
    "# detect outliers in the test set\n",
    "yhat = lof_predict(model, trainX, testX)\n",
    "# mark inliers 1, outliers -1\n",
    "testy[testy == 1] = -1\n",
    "testy[testy == 0] = 1\n",
    "# calculate score\n",
    "score = f1_score(testy, yhat, pos_label=-1)\n",
    "print('F1 Score: %.3f' % score)"
   ]
  },
  {
   "cell_type": "code",
   "execution_count": null,
   "id": "0072e79f",
   "metadata": {},
   "outputs": [],
   "source": []
  }
 ],
 "metadata": {
  "kernelspec": {
   "display_name": "pythonCYBR520",
   "language": "python",
   "name": "pythoncybr520"
  },
  "language_info": {
   "codemirror_mode": {
    "name": "ipython",
    "version": 3
   },
   "file_extension": ".py",
   "mimetype": "text/x-python",
   "name": "python",
   "nbconvert_exporter": "python",
   "pygments_lexer": "ipython3",
   "version": "3.11.5"
  }
 },
 "nbformat": 4,
 "nbformat_minor": 5
}
