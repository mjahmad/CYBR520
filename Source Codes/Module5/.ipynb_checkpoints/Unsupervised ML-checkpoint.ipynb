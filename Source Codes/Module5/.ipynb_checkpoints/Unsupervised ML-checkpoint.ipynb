{
 "cells": [
  {
   "cell_type": "code",
   "execution_count": null,
   "id": "7f4c8cd1",
   "metadata": {},
   "outputs": [],
   "source": [
    "#Importing Libraries"
   ]
  },
  {
   "cell_type": "code",
   "execution_count": null,
   "id": "37a98350",
   "metadata": {},
   "outputs": [],
   "source": [
    "import numpy as np\n",
    "import matplotlib.pyplot as plt\n",
    "from sklearn.datasets import make_blobs\n",
    "from sklearn.model_selection import train_test_split\n",
    "from sklearn.svm import OneClassSVM\n",
    "from sklearn.ensemble import IsolationForest\n",
    "from sklearn.neighbors import LocalOutlierFactor\n",
    "from sklearn.metrics import confusion_matrix, classification_report, roc_auc_score, roc_curve, auc\n"
   ]
  },
  {
   "cell_type": "code",
   "execution_count": 3,
   "id": "f740aa7b",
   "metadata": {},
   "outputs": [],
   "source": [
    "# Generating Synthetic DataWe create a synthetic dataset using make_blobs. \n",
    "# This dataset contains two clusters, and we introduce 30 outlier points manually.\n",
    "\n",
    "X, y = make_blobs(n_samples=300, centers=2, random_state=42, cluster_std=1.0)\n",
    "outliers = np.random.uniform(low=-10, high=10, size=(30, 2))\n",
    "X = np.vstack([X, outliers])\n",
    "y = np.hstack([y, [-1] * len(outliers)])\n"
   ]
  },
  {
   "cell_type": "code",
   "execution_count": null,
   "id": "fe980eca",
   "metadata": {},
   "outputs": [],
   "source": [
    "# Splitting Data\n",
    "# We split the data into training (X_train, y_train) and testing (X_test, y_test) sets.\n",
    "\n",
    "X_train, X_test, y_train, y_test = train_test_split(X, y, test_size=0.2, random_state=42)\n"
   ]
  },
  {
   "cell_type": "code",
   "execution_count": null,
   "id": "3cab9ec2",
   "metadata": {},
   "outputs": [],
   "source": [
    "# One-class SVM (OC-SVM)\n",
    "# We create an OC-SVM model with a contamination rate of 5% \n",
    "# (meaning we expect 5% of data to be outliers). We train it on the training data and make predictions on the test data.\n",
    "\n",
    "ocsvm = OneClassSVM(nu=0.05)\n",
    "ocsvm.fit(X_train)\n",
    "y_pred_ocsvm = ocsvm.predict(X_test)\n"
   ]
  },
  {
   "cell_type": "code",
   "execution_count": null,
   "id": "dfbbcb07",
   "metadata": {},
   "outputs": [],
   "source": [
    "# Isolation Forest\n",
    "iforest = IsolationForest(contamination=0.05, random_state=42)\n",
    "iforest.fit(X_train)\n",
    "y_pred_iforest = iforest.predict(X_test)\n"
   ]
  },
  {
   "cell_type": "code",
   "execution_count": null,
   "id": "96badad5",
   "metadata": {},
   "outputs": [],
   "source": [
    "# We create an Isolation Forest model with the same contamination rate as OC-SVM. \n",
    "# We fit it to the training data and make predictions on the test data.\n",
    "iforest = IsolationForest(contamination=0.05, random_state=42)\n",
    "iforest.fit(X_train)\n",
    "y_pred_iforest = iforest.predict(X_test)\n"
   ]
  },
  {
   "cell_type": "code",
   "execution_count": null,
   "id": "3943fa77",
   "metadata": {},
   "outputs": [],
   "source": [
    "# Local Outlier Factor (LOF)\n",
    "# We create an LOF model with a contamination rate of 5% and set \n",
    "# the number of neighbors to consider as 20. We fit it to the test data and predict anomalies.\n",
    "lof = LocalOutlierFactor(n_neighbors=20, contamination=0.05)\n",
    "y_pred_lof = lof.fit_predict(X_test)\n"
   ]
  },
  {
   "cell_type": "code",
   "execution_count": null,
   "id": "c3678b2f",
   "metadata": {},
   "outputs": [],
   "source": []
  },
  {
   "cell_type": "code",
   "execution_count": null,
   "id": "78c57c0b",
   "metadata": {},
   "outputs": [],
   "source": []
  },
  {
   "cell_type": "code",
   "execution_count": null,
   "id": "124c38a9",
   "metadata": {},
   "outputs": [],
   "source": []
  },
  {
   "cell_type": "code",
   "execution_count": null,
   "id": "15344ff6",
   "metadata": {},
   "outputs": [],
   "source": [
    "i see a"
   ]
  }
 ],
 "metadata": {
  "kernelspec": {
   "display_name": "pythonCYBR520",
   "language": "python",
   "name": "pythoncybr520"
  },
  "language_info": {
   "codemirror_mode": {
    "name": "ipython",
    "version": 3
   },
   "file_extension": ".py",
   "mimetype": "text/x-python",
   "name": "python",
   "nbconvert_exporter": "python",
   "pygments_lexer": "ipython3",
   "version": "3.11.5"
  }
 },
 "nbformat": 4,
 "nbformat_minor": 5
}
