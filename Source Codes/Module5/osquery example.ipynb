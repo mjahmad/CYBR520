{
 "cells": [
  {
   "cell_type": "code",
   "execution_count": 1,
   "id": "3dc23744",
   "metadata": {},
   "outputs": [],
   "source": [
    "import json\n",
    "\n",
    "# Simulated osquery output log\n",
    "osquery_log = [\n",
    "    {\n",
    "        \"name\": \"processes\",\n",
    "        \"action\": \"added\",\n",
    "        \"columns\": {\n",
    "            \"pid\": \"123\",\n",
    "            \"name\": \"explorer.exe\",\n",
    "            \"path\": \"C:\\\\Windows\\\\explorer.exe\",\n",
    "        },\n",
    "    },\n",
    "    {\n",
    "        \"name\": \"users\",\n",
    "        \"action\": \"removed\",\n",
    "        \"columns\": {\n",
    "            \"username\": \"malicious_user\",\n",
    "        },\n",
    "    },\n",
    "    {\n",
    "        \"name\": \"processes\",\n",
    "        \"action\": \"added\",\n",
    "        \"columns\": {\n",
    "            \"pid\": \"456\",\n",
    "            \"name\": \"malware.exe\",\n",
    "            \"path\": \"C:\\\\Program Files\\\\Malware\\\\malware.exe\",\n",
    "        },\n",
    "    },\n",
    "    {\n",
    "        \"name\": \"network_connections\",\n",
    "        \"action\": \"added\",\n",
    "        \"columns\": {\n",
    "            \"local_address\": \"192.168.1.100\",\n",
    "            \"remote_address\": \"10.0.0.2\",\n",
    "            \"local_port\": \"54321\",\n",
    "            \"remote_port\": \"80\",\n",
    "        },\n",
    "    },\n",
    "]\n",
    "\n",
    "# Save the simulated osquery log to a JSON file\n",
    "with open(\"simulated_osquery_log.json\", \"w\") as log_file:\n",
    "    json.dump(osquery_log, log_file, indent=4)\n"
   ]
  },
  {
   "cell_type": "code",
   "execution_count": 2,
   "id": "8bee3b36",
   "metadata": {},
   "outputs": [
    {
     "name": "stdout",
     "output_type": "stream",
     "text": [
      "Running Processes:\n",
      "PID: 123, Name: explorer.exe, Path: C:\\Windows\\explorer.exe\n",
      "PID: 456, Name: malware.exe, Path: C:\\Program Files\\Malware\\malware.exe\n"
     ]
    }
   ],
   "source": [
    "import json\n",
    "\n",
    "# Load the simulated osquery log\n",
    "with open(\"simulated_osquery_log.json\", \"r\") as log_file:\n",
    "    osquery_log = json.load(log_file)\n",
    "\n",
    "# Extract relevant information from the log\n",
    "running_processes = []\n",
    "for entry in osquery_log:\n",
    "    if entry[\"name\"] == \"processes\" and entry[\"action\"] == \"added\":\n",
    "        running_processes.append({\n",
    "            \"pid\": entry[\"columns\"][\"pid\"],\n",
    "            \"name\": entry[\"columns\"][\"name\"],\n",
    "            \"path\": entry[\"columns\"][\"path\"],\n",
    "        })\n",
    "\n",
    "# Print the list of running processes (simplified for demonstration)\n",
    "print(\"Running Processes:\")\n",
    "for process in running_processes:\n",
    "    print(f\"PID: {process['pid']}, Name: {process['name']}, Path: {process['path']}\")\n"
   ]
  },
  {
   "cell_type": "code",
   "execution_count": null,
   "id": "f8066ea3",
   "metadata": {},
   "outputs": [],
   "source": []
  },
  {
   "cell_type": "code",
   "execution_count": null,
   "id": "c7f2c37e",
   "metadata": {},
   "outputs": [],
   "source": []
  },
  {
   "cell_type": "code",
   "execution_count": null,
   "id": "e087f6dc",
   "metadata": {},
   "outputs": [],
   "source": []
  },
  {
   "cell_type": "code",
   "execution_count": 6,
   "id": "da841f86",
   "metadata": {},
   "outputs": [
    {
     "ename": "NameError",
     "evalue": "name 'filesystem' is not defined",
     "output_type": "error",
     "traceback": [
      "\u001b[1;31m---------------------------------------------------------------------------\u001b[0m",
      "\u001b[1;31mNameError\u001b[0m                                 Traceback (most recent call last)",
      "Cell \u001b[1;32mIn[6], line 1\u001b[0m\n\u001b[1;32m----> 1\u001b[0m config_plugin \u001b[38;5;241m=\u001b[39m \u001b[43mfilesystem\u001b[49m\n\u001b[0;32m      3\u001b[0m [schedule]\n\u001b[0;32m      4\u001b[0m { \u001b[38;5;124m\"\u001b[39m\u001b[38;5;124mquery_name\u001b[39m\u001b[38;5;124m\"\u001b[39m: \u001b[38;5;124m\"\u001b[39m\u001b[38;5;124mprocesses\u001b[39m\u001b[38;5;124m\"\u001b[39m, \u001b[38;5;124m\"\u001b[39m\u001b[38;5;124minterval\u001b[39m\u001b[38;5;124m\"\u001b[39m: \u001b[38;5;241m3600\u001b[39m }\n",
      "\u001b[1;31mNameError\u001b[0m: name 'filesystem' is not defined"
     ]
    }
   ],
   "source": [
    "\n",
    "config_plugin = filesystem\n",
    "\n",
    "[schedule]\n",
    "{ \"query_name\": \"processes\", \"interval\": 3600 }\n",
    "{ \"query_name\": \"users\", \"interval\": 3600 }\n",
    "{ \"query_name\": \"network_connections\", \"interval\": 3600 }\n",
    "\n",
    "[filesystem]\n",
    "path = '/etc/osquery/osquery.conf'\n"
   ]
  },
  {
   "cell_type": "code",
   "execution_count": 5,
   "id": "e0b91bb3",
   "metadata": {},
   "outputs": [
    {
     "name": "stdout",
     "output_type": "stream",
     "text": [
      "Alert: Detected removal of a malicious user\n"
     ]
    }
   ],
   "source": [
    "import json\n",
    "\n",
    "# Simulated osquery logs (replace with log input from your log management system)\n",
    "osquery_logs = [\n",
    "    {\"name\": \"processes\", \"action\": \"added\", \"columns\": {\"pid\": \"123\", \"name\": \"explorer.exe\", \"path\": \"C:\\\\Windows\\\\explorer.exe\"}},\n",
    "    {\"name\": \"users\", \"action\": \"removed\", \"columns\": {\"username\": \"malicious_user\"}},\n",
    "    {\"name\": \"network_connections\", \"action\": \"added\", \"columns\": {\"local_address\": \"192.168.1.100\", \"remote_address\": \"10.0.0.2\"}},\n",
    "]\n",
    "\n",
    "# Define detection rules\n",
    "def detect_malicious_user(log_entry):\n",
    "    if log_entry[\"name\"] == \"users\" and log_entry[\"action\"] == \"removed\":\n",
    "        if log_entry[\"columns\"][\"username\"] == \"malicious_user\":\n",
    "            return True\n",
    "    return False\n",
    "\n",
    "def detect_suspicious_process(log_entry):\n",
    "    if log_entry[\"name\"] == \"processes\" and log_entry[\"action\"] == \"added\":\n",
    "        if \"malware\" in log_entry[\"columns\"][\"name\"].lower() or \"malware\" in log_entry[\"columns\"][\"path\"].lower():\n",
    "            return True\n",
    "    return False\n",
    "\n",
    "# Process logs and trigger alerts based on detection rules\n",
    "for log_entry in osquery_logs:\n",
    "    if detect_malicious_user(log_entry):\n",
    "        print(\"Alert: Detected removal of a malicious user\")\n",
    "    if detect_suspicious_process(log_entry):\n",
    "        print(\"Alert: Detected a suspicious process execution\")\n",
    "\n"
   ]
  },
  {
   "cell_type": "code",
   "execution_count": null,
   "id": "b3426fb6",
   "metadata": {},
   "outputs": [],
   "source": []
  }
 ],
 "metadata": {
  "kernelspec": {
   "display_name": "pythonCYBR520",
   "language": "python",
   "name": "pythoncybr520"
  },
  "language_info": {
   "codemirror_mode": {
    "name": "ipython",
    "version": 3
   },
   "file_extension": ".py",
   "mimetype": "text/x-python",
   "name": "python",
   "nbconvert_exporter": "python",
   "pygments_lexer": "ipython3",
   "version": "3.11.5"
  }
 },
 "nbformat": 4,
 "nbformat_minor": 5
}
