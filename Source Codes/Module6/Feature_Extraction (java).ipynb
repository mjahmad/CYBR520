{
 "cells": [
  {
   "cell_type": "code",
   "execution_count": 1,
   "id": "9390a35d",
   "metadata": {},
   "outputs": [
    {
     "name": "stdout",
     "output_type": "stream",
     "text": [
      "Defaulting to user installation because normal site-packages is not writeable\n",
      "Collecting javalang\n",
      "  Downloading javalang-0.13.0-py3-none-any.whl (22 kB)\n",
      "Requirement already satisfied: pandas in c:\\users\\cybr520\\appdata\\roaming\\python\\python311\\site-packages (2.1.1)\n",
      "Requirement already satisfied: six in c:\\programdata\\miniconda3\\envs\\pythoncybr520\\lib\\site-packages (from javalang) (1.16.0)\n",
      "Requirement already satisfied: numpy>=1.23.2 in c:\\users\\cybr520\\appdata\\roaming\\python\\python311\\site-packages (from pandas) (1.26.1)\n",
      "Requirement already satisfied: python-dateutil>=2.8.2 in c:\\programdata\\miniconda3\\envs\\pythoncybr520\\lib\\site-packages (from pandas) (2.8.2)\n",
      "Requirement already satisfied: pytz>=2020.1 in c:\\users\\cybr520\\appdata\\roaming\\python\\python311\\site-packages (from pandas) (2023.3.post1)\n",
      "Requirement already satisfied: tzdata>=2022.1 in c:\\users\\cybr520\\appdata\\roaming\\python\\python311\\site-packages (from pandas) (2023.3)\n",
      "Installing collected packages: javalang\n",
      "Successfully installed javalang-0.13.0\n",
      "Note: you may need to restart the kernel to use updated packages.\n"
     ]
    }
   ],
   "source": [
    "pip install javalang pandas\n"
   ]
  },
  {
   "cell_type": "code",
   "execution_count": 1,
   "id": "9422d4e1",
   "metadata": {},
   "outputs": [],
   "source": [
    "import os\n",
    "import javalang\n",
    "import pandas as pd\n",
    "\n",
    "def extract_features_from_java_file(file_path):\n",
    "    with open(file_path, 'r', encoding='utf-8') as file:\n",
    "        code = file.read()\n",
    "\n",
    "    try:\n",
    "        tree = javalang.parse.parse(code)\n",
    "\n",
    "        features = {\n",
    "            \"file_name\": os.path.basename(file_path),\n",
    "            \"num_classes\": sum(1 for _ in tree.filter(javalang.tree.ClassDeclaration)),\n",
    "            \"num_methods\": sum(1 for _ in tree.filter(javalang.tree.MethodDeclaration)),\n",
    "            \"num_reflections\": sum(1 for _, node in tree.filter(javalang.tree.MethodInvocation) if node.member in ['getMethod', 'invoke']),\n",
    "            \"num_file_operations\": sum(1 for _, node in tree.filter(javalang.tree.MethodInvocation) if node.member in ['FileInputStream', 'FileOutputStream']),\n",
    "            \"num_network_operations\": sum(1 for _, node in tree.filter(javalang.tree.MethodInvocation) if node.member in ['Socket', 'ServerSocket']),\n",
    "            # Add more features as needed\n",
    "        }\n",
    "\n",
    "        return features\n",
    "    except:\n",
    "        return None\n",
    "\n"
   ]
  },
  {
   "cell_type": "code",
   "execution_count": 2,
   "id": "508839f6",
   "metadata": {},
   "outputs": [],
   "source": [
    "\n",
    "def main():\n",
    "    directory = \"synapse_java\"  # Replace with your Java files directory\n",
    "    files = [os.path.join(directory, f) for f in os.listdir(directory) if f.endswith('.java')]\n",
    "\n",
    "    all_features = []\n",
    "\n",
    "    for file in files:\n",
    "        features = extract_features_from_java_file(file)\n",
    "        if features:\n",
    "            all_features.append(features)\n",
    "\n",
    "    df = pd.DataFrame(all_features)\n",
    "    df.to_csv(\"java_features.csv\", index=False)\n",
    "\n",
    "if __name__ == \"__main__\":\n",
    "    main()"
   ]
  },
  {
   "cell_type": "code",
   "execution_count": null,
   "id": "5090bfbf",
   "metadata": {},
   "outputs": [],
   "source": []
  }
 ],
 "metadata": {
  "kernelspec": {
   "display_name": "pythonCYBR520",
   "language": "python",
   "name": "pythoncybr520"
  },
  "language_info": {
   "codemirror_mode": {
    "name": "ipython",
    "version": 3
   },
   "file_extension": ".py",
   "mimetype": "text/x-python",
   "name": "python",
   "nbconvert_exporter": "python",
   "pygments_lexer": "ipython3",
   "version": "3.11.5"
  }
 },
 "nbformat": 4,
 "nbformat_minor": 5
}
