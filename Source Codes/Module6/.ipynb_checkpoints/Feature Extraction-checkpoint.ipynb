{
 "cells": [
  {
   "cell_type": "code",
   "execution_count": 1,
   "id": "e1aa3e70",
   "metadata": {},
   "outputs": [
    {
     "name": "stdout",
     "output_type": "stream",
     "text": [
      "Defaulting to user installation because normal site-packages is not writeable\n",
      "Collecting pefile\n",
      "  Downloading pefile-2023.2.7-py3-none-any.whl (71 kB)\n",
      "     ---------------------------------------- 0.0/71.8 kB ? eta -:--:--\n",
      "     ----- ---------------------------------- 10.2/71.8 kB ? eta -:--:--\n",
      "     ---------------- --------------------- 30.7/71.8 kB 325.1 kB/s eta 0:00:01\n",
      "     -------------------------------- ----- 61.4/71.8 kB 465.5 kB/s eta 0:00:01\n",
      "     -------------------------------------- 71.8/71.8 kB 436.5 kB/s eta 0:00:00\n",
      "Requirement already satisfied: pandas in c:\\users\\cybr520\\appdata\\roaming\\python\\python311\\site-packages (2.1.1)\n",
      "Requirement already satisfied: numpy>=1.23.2 in c:\\users\\cybr520\\appdata\\roaming\\python\\python311\\site-packages (from pandas) (1.26.1)\n",
      "Requirement already satisfied: python-dateutil>=2.8.2 in c:\\programdata\\miniconda3\\envs\\pythoncybr520\\lib\\site-packages (from pandas) (2.8.2)\n",
      "Requirement already satisfied: pytz>=2020.1 in c:\\users\\cybr520\\appdata\\roaming\\python\\python311\\site-packages (from pandas) (2023.3.post1)\n",
      "Requirement already satisfied: tzdata>=2022.1 in c:\\users\\cybr520\\appdata\\roaming\\python\\python311\\site-packages (from pandas) (2023.3)\n",
      "Requirement already satisfied: six>=1.5 in c:\\programdata\\miniconda3\\envs\\pythoncybr520\\lib\\site-packages (from python-dateutil>=2.8.2->pandas) (1.16.0)\n",
      "Installing collected packages: pefile\n",
      "Successfully installed pefile-2023.2.7\n",
      "Note: you may need to restart the kernel to use updated packages.\n"
     ]
    }
   ],
   "source": [
    "!pip install pefile pandas"
   ]
  },
  {
   "cell_type": "code",
   "execution_count": 2,
   "id": "966ae8fe",
   "metadata": {},
   "outputs": [],
   "source": [
    "import os\n",
    "import pefile\n",
    "import pandas as pd\n",
    "\n",
    "def extract_features(file_path):\n",
    "    try:\n",
    "        pe = pefile.PE(file_path)\n",
    "\n",
    "        features = {\n",
    "            \"file_name\": os.path.basename(file_path),\n",
    "            \"number_of_sections\": len(pe.sections),\n",
    "            \"number_of_imports\": len(pe.DIRECTORY_ENTRY_IMPORT) if hasattr(pe, 'DIRECTORY_ENTRY_IMPORT') else 0,\n",
    "            \"number_of_exports\": len(pe.DIRECTORY_ENTRY_EXPORT.symbols) if hasattr(pe, 'DIRECTORY_ENTRY_EXPORT') else 0,\n",
    "            \"entry_point\": pe.OPTIONAL_HEADER.AddressOfEntryPoint,\n",
    "            \"image_base\": pe.OPTIONAL_HEADER.ImageBase\n",
    "        }\n",
    "\n",
    "        return features\n",
    "    except:\n",
    "        return None\n"
   ]
  },
  {
   "cell_type": "code",
   "execution_count": 7,
   "id": "3ad17556",
   "metadata": {},
   "outputs": [],
   "source": [
    "\n",
    "def main():\n",
    "    directory = \"./\"  # Replace with your PE files directory\n",
    "    files = [os.path.join(directory, f) for f in os.listdir(directory) if f.endswith('.exe')]\n",
    "\n",
    "    all_features = []\n",
    "\n",
    "    for file in files:\n",
    "        features = extract_features(file)\n",
    "        if features:\n",
    "            all_features.append(features)\n",
    "\n",
    "    df = pd.DataFrame(all_features)\n",
    "    df.to_csv(\"exe_features.csv\", index=False)\n",
    "\n",
    "if __name__ == \"__main__\":\n",
    "    main()\n"
   ]
  },
  {
   "cell_type": "code",
   "execution_count": null,
   "id": "ca36ed2b",
   "metadata": {},
   "outputs": [],
   "source": []
  }
 ],
 "metadata": {
  "kernelspec": {
   "display_name": "pythonCYBR520",
   "language": "python",
   "name": "pythoncybr520"
  },
  "language_info": {
   "codemirror_mode": {
    "name": "ipython",
    "version": 3
   },
   "file_extension": ".py",
   "mimetype": "text/x-python",
   "name": "python",
   "nbconvert_exporter": "python",
   "pygments_lexer": "ipython3",
   "version": "3.11.5"
  }
 },
 "nbformat": 4,
 "nbformat_minor": 5
}
